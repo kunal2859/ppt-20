{
 "cells": [
  {
   "cell_type": "code",
   "execution_count": 1,
   "id": "49fc2973",
   "metadata": {},
   "outputs": [
    {
     "name": "stdout",
     "output_type": "stream",
     "text": [
      "5\n",
      "1 2 3 4 5\n",
      "6 7 8 9 10\n",
      "0.001052825793366539\n"
     ]
    }
   ],
   "source": [
    "import scipy.stats as stats\n",
    "def perform_hypothesis_test(list1,list2):\n",
    "    t_statistic, p_value=stats.ttest_ind(list1, list2)\n",
    "    return p_value\n",
    "\n",
    "n=int(input())\n",
    "list1=list(map(int,input().split()))[:n]\n",
    "list2=list(map(int,input().split()))[:n]\n",
    "p_value=perform_hypothesis_test(list1,list2)\n",
    "print(p_value)"
   ]
  },
  {
   "cell_type": "code",
   "execution_count": null,
   "id": "0b644fe1",
   "metadata": {},
   "outputs": [],
   "source": []
  }
 ],
 "metadata": {
  "kernelspec": {
   "display_name": "Python 3 (ipykernel)",
   "language": "python",
   "name": "python3"
  },
  "language_info": {
   "codemirror_mode": {
    "name": "ipython",
    "version": 3
   },
   "file_extension": ".py",
   "mimetype": "text/x-python",
   "name": "python",
   "nbconvert_exporter": "python",
   "pygments_lexer": "ipython3",
   "version": "3.9.13"
  }
 },
 "nbformat": 4,
 "nbformat_minor": 5
}
